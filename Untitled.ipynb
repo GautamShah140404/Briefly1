{
 "cells": [
  {
   "cell_type": "code",
   "execution_count": 36,
   "id": "e49953e2-8738-4703-870a-aed78346f0cf",
   "metadata": {
    "tags": []
   },
   "outputs": [],
   "source": [
    "url = 'https://www.msn.com/en-in/lifestyle/whats-hot/india-vs-pakistan-women-s-asia-cup-2024-catch-all-the-action-from-the-match-in-these-images/ar-BB1qigLb?ocid=winp2fptaskbar&cvid=a9cca7731d3d4b45f25d4a0628cda417&ei=16'\n",
    "num = 0.45"
   ]
  },
  {
   "cell_type": "code",
   "execution_count": 44,
   "id": "3abe35b4-191f-4415-afd8-5b30162432e6",
   "metadata": {
    "tags": []
   },
   "outputs": [
    {
     "name": "stdout",
     "output_type": "stream",
     "text": [
      " * Serving Flask app '__main__'\n",
      " * Debug mode: on\n"
     ]
    },
    {
     "name": "stderr",
     "output_type": "stream",
     "text": [
      "INFO:werkzeug:\u001b[31m\u001b[1mWARNING: This is a development server. Do not use it in a production deployment. Use a production WSGI server instead.\u001b[0m\n",
      " * Running on all addresses (0.0.0.0)\n",
      " * Running on http://127.0.0.1:5000\n",
      " * Running on http://192.168.85.247:5000\n",
      "INFO:werkzeug:\u001b[33mPress CTRL+C to quit\u001b[0m\n",
      "INFO:werkzeug: * Restarting with watchdog (windowsapi)\n"
     ]
    },
    {
     "ename": "SystemExit",
     "evalue": "1",
     "output_type": "error",
     "traceback": [
      "An exception has occurred, use %tb to see the full traceback.\n",
      "\u001b[1;31mSystemExit\u001b[0m\u001b[1;31m:\u001b[0m 1\n"
     ]
    },
    {
     "name": "stderr",
     "output_type": "stream",
     "text": [
      "C:\\Users\\urmid\\anaconda3\\Lib\\site-packages\\IPython\\core\\interactiveshell.py:3534: UserWarning: To exit: use 'exit', 'quit', or Ctrl-D.\n",
      "  warn(\"To exit: use 'exit', 'quit', or Ctrl-D.\", stacklevel=1)\n"
     ]
    }
   ],
   "source": [
    "from flask import Flask, jsonify, request\n",
    "import spacy\n",
    "from spacy.lang.en.stop_words import STOP_WORDS\n",
    "from string import punctuation\n",
    "from heapq import nlargest\n",
    "from newspaper import Article\n",
    "\n",
    "# Load the spaCy model\n",
    "\n",
    "\n",
    "nlp = spacy.load('en_core_web_sm')\n",
    "\n",
    "def summarize(text, per):\n",
    "    doc = nlp(text)\n",
    "    tokens = [token.text for token in doc]\n",
    "    word_frequencies = {}\n",
    "    for word in doc:\n",
    "        if word.text.lower() not in list(STOP_WORDS):\n",
    "            if word.text.lower() not in punctuation:\n",
    "                if word.text not in word_frequencies.keys():\n",
    "                    word_frequencies[word.text] = 1\n",
    "                else:\n",
    "                    word_frequencies[word.text] += 1\n",
    "    max_frequency = max(word_frequencies.values())\n",
    "    for word in word_frequencies.keys():\n",
    "        word_frequencies[word] = word_frequencies[word] / max_frequency\n",
    "    sentence_tokens = [sent for sent in doc.sents]\n",
    "    sentence_scores = {}\n",
    "    for sent in sentence_tokens:\n",
    "        for word in sent:\n",
    "            if word.text.lower() in word_frequencies.keys():\n",
    "                if sent not in sentence_scores.keys():\n",
    "                    sentence_scores[sent] = word_frequencies[word.text.lower()]\n",
    "                else:\n",
    "                    sentence_scores[sent] += word_frequencies[word.text.lower()]\n",
    "    select_length = int(len(sentence_tokens) * per)\n",
    "    summary = nlargest(select_length, sentence_scores, key=sentence_scores.get)\n",
    "    final_summary = [word.text for word in summary]\n",
    "    summary = ''.join(final_summary)\n",
    "\n",
    "    return summary\n",
    "\n",
    "def final_ret(url,num):\n",
    "    article = Article(url)\n",
    "    article.download()\n",
    "    article.parse()\n",
    "    text = summarize(article.text, num)\n",
    "    cleaned_text = text.replace(\"\\n\\n\", \"\\n\")\n",
    "    return cleaned_text\n",
    "# print(cleaned_text)\n",
    "\n",
    "app = Flask(__name__)\n",
    "\n",
    "@app.route('/', methods=['GET', 'POST'])\n",
    "def handle_users():\n",
    "    if request.method == 'POST':\n",
    "        new_user = request.get_json()\n",
    "        url = new_user.get('url')\n",
    "        num = new_user.get('number')\n",
    "        # print(new_user)\n",
    "        # new_user['id'] = len(cleaned_text) + 1\n",
    "        # cleaned_text.append(new_user)\n",
    "        return jsonify(final_ret(url,num)), 201\n",
    "\n",
    "if __name__ == '__main__':\n",
    "    app.run(host = \"0.0.0.0\", port=5000, debug=True)"
   ]
  },
  {
   "cell_type": "code",
   "execution_count": null,
   "id": "0b39be3e-3500-4138-8269-f9307b6f6506",
   "metadata": {
    "tags": []
   },
   "outputs": [],
   "source": [
    "final_ret(url,num)"
   ]
  },
  {
   "cell_type": "code",
   "execution_count": 46,
   "id": "b1e8ead3-674e-46fe-9317-0b8f82f33371",
   "metadata": {
    "tags": []
   },
   "outputs": [
    {
     "name": "stderr",
     "output_type": "stream",
     "text": [
      "WARNING:absl:Compiled the loaded model, but the compiled metrics have yet to be built. `model.compile_metrics` will be empty until you train or evaluate the model.\n"
     ]
    }
   ],
   "source": [
    "from tensorflow.keras.models import load_model\n",
    "from tensorflow.keras.optimizers import Adam\n",
    "\n",
    "# Load the model\n",
    "model = load_model('text_summarization_rnn_light.h5')\n",
    "\n",
    "# Compile the model (ensure the optimizer and loss are set correctly)\n",
    "model.compile(optimizer=Adam(), loss='sparse_categorical_crossentropy', metrics=['accuracy'])\n"
   ]
  },
  {
   "cell_type": "code",
   "execution_count": 47,
   "id": "eae198a8-99d1-4f20-af9a-e2992e131a44",
   "metadata": {
    "tags": []
   },
   "outputs": [],
   "source": [
    "import pickle\n",
    "from tensorflow.keras.preprocessing.text import Tokenizer\n",
    "\n",
    "# Assuming you have your texts available\n",
    "text = [\"example text data\"]  # Replace with your actual text data\n",
    "summary = [\"example summary\"]  # Replace with your actual summary data\n",
    "\n",
    "text_tokenizer = Tokenizer(num_words=50000)\n",
    "text_tokenizer.fit_on_texts(text)\n",
    "with open('text_tokenizer.pickle', 'wb') as handle:\n",
    "    pickle.dump(text_tokenizer, handle, protocol=pickle.HIGHEST_PROTOCOL)\n",
    "\n",
    "summary_tokenizer = Tokenizer(num_words=10000)\n",
    "summary_tokenizer.fit_on_texts(summary)\n",
    "with open('summary_tokenizer.pickle', 'wb') as handle:\n",
    "    pickle.dump(summary_tokenizer, handle, protocol=pickle.HIGHEST_PROTOCOL)\n"
   ]
  },
  {
   "cell_type": "code",
   "execution_count": null,
   "id": "beb48ad2-ff33-49c1-b98b-7e05ff4462c0",
   "metadata": {},
   "outputs": [],
   "source": []
  }
 ],
 "metadata": {
  "kernelspec": {
   "display_name": "Python 3 (ipykernel)",
   "language": "python",
   "name": "python3"
  },
  "language_info": {
   "codemirror_mode": {
    "name": "ipython",
    "version": 3
   },
   "file_extension": ".py",
   "mimetype": "text/x-python",
   "name": "python",
   "nbconvert_exporter": "python",
   "pygments_lexer": "ipython3",
   "version": "3.11.5"
  }
 },
 "nbformat": 4,
 "nbformat_minor": 5
}
