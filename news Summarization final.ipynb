{
 "cells": [
  {
   "cell_type": "code",
   "execution_count": 1,
   "id": "c9ea40bb-511e-485e-92ff-7c8080dbba36",
   "metadata": {},
   "outputs": [],
   "source": [
    "import pandas as pd\n",
    "import numpy as np\n",
    "import tensorflow as tf\n",
    "from tensorflow.keras.preprocessing.text import Tokenizer\n",
    "from tensorflow.keras.preprocessing.sequence import pad_sequences\n",
    "from tensorflow.keras.models import Model\n",
    "from tensorflow.keras.layers import Embedding, LSTM, Dense, Input, Bidirectional\n",
    "from tensorflow.keras.callbacks import EarlyStopping"
   ]
  },
  {
   "cell_type": "code",
   "execution_count": 2,
   "id": "03e71e66-9733-4cb0-a6fd-cd4469f7603b",
   "metadata": {},
   "outputs": [],
   "source": [
    "# Load a subset of the data for testing\n",
    "data = pd.read_csv('cnn_dailymail/train.csv').sample(10000)"
   ]
  },
  {
   "cell_type": "code",
   "execution_count": 3,
   "id": "8cc92d1c-5898-4fef-ab4c-36a0e77e76ef",
   "metadata": {},
   "outputs": [],
   "source": [
    "# Preprocess the text data\n",
    "text = data['article'].astype(str).tolist()\n",
    "summary = data['highlights'].astype(str).tolist()"
   ]
  },
  {
   "cell_type": "code",
   "execution_count": 4,
   "id": "36ca29c4-c48f-4ea2-a0cc-fe454de5aebc",
   "metadata": {
    "tags": []
   },
   "outputs": [
    {
     "data": {
      "text/html": [
       "<div>\n",
       "<style scoped>\n",
       "    .dataframe tbody tr th:only-of-type {\n",
       "        vertical-align: middle;\n",
       "    }\n",
       "\n",
       "    .dataframe tbody tr th {\n",
       "        vertical-align: top;\n",
       "    }\n",
       "\n",
       "    .dataframe thead th {\n",
       "        text-align: right;\n",
       "    }\n",
       "</style>\n",
       "<table border=\"1\" class=\"dataframe\">\n",
       "  <thead>\n",
       "    <tr style=\"text-align: right;\">\n",
       "      <th></th>\n",
       "      <th>id</th>\n",
       "      <th>article</th>\n",
       "      <th>highlights</th>\n",
       "    </tr>\n",
       "  </thead>\n",
       "  <tbody>\n",
       "    <tr>\n",
       "      <th>192931</th>\n",
       "      <td>85c68823b7734962a6cf37b67b352f2790d27ff4</td>\n",
       "      <td>(CNN) -- Wearing a floppy hat, 3-year-old Thor...</td>\n",
       "      <td>Up-close tours mark 50th anniversary of Kenned...</td>\n",
       "    </tr>\n",
       "    <tr>\n",
       "      <th>258743</th>\n",
       "      <td>dae5171c87c9f8424f09471a2dd6eff9b32733fe</td>\n",
       "      <td>By . Daily Mail Reporter . PUBLISHED: . 19:21 ...</td>\n",
       "      <td>Etan Patz was last seen in 1979 when he walked...</td>\n",
       "    </tr>\n",
       "    <tr>\n",
       "      <th>89967</th>\n",
       "      <td>ff7846022814b4503bfc98a23f43e94e89ab0561</td>\n",
       "      <td>Atlanta (CNN) -- Basketball star Lisa Leslie b...</td>\n",
       "      <td>The 27th annual National Girls and Women in Sp...</td>\n",
       "    </tr>\n",
       "    <tr>\n",
       "      <th>251510</th>\n",
       "      <td>d18ec0876e37e94c0772f55debaa1614b238c5a9</td>\n",
       "      <td>John Balyo, 35, (pictured at his arrest last w...</td>\n",
       "      <td>John Balyo, 35, was arrested last Friday while...</td>\n",
       "    </tr>\n",
       "    <tr>\n",
       "      <th>28902</th>\n",
       "      <td>5204aeb065cef0b08a62837941e64a668da11b66</td>\n",
       "      <td>(CNN) -- The Republican Party is in the midst ...</td>\n",
       "      <td>Edward Alden: GOP in the midst of historic deb...</td>\n",
       "    </tr>\n",
       "    <tr>\n",
       "      <th>70628</th>\n",
       "      <td>c83faf99c08fd4d44d9ee38d1c3ef84c273909f2</td>\n",
       "      <td>By . Daily Mail Reporter . UPDATED: . 06:33 ES...</td>\n",
       "      <td>Microsoft in second place with 905 million vis...</td>\n",
       "    </tr>\n",
       "    <tr>\n",
       "      <th>283034</th>\n",
       "      <td>fa9f62da24f8245ba3bfd1e1756a25bedee8c6a2</td>\n",
       "      <td>The explosive Senate Committee torture report ...</td>\n",
       "      <td>Experts say yesterday's Senate torture report ...</td>\n",
       "    </tr>\n",
       "    <tr>\n",
       "      <th>106725</th>\n",
       "      <td>15ada6585ac8c3a34f1e2e7921cacefa0bf6ae38</td>\n",
       "      <td>The world's largest ship, which is the size of...</td>\n",
       "      <td>World's largest ship, the Hong-Kong registered...</td>\n",
       "    </tr>\n",
       "    <tr>\n",
       "      <th>148621</th>\n",
       "      <td>4c2d73ce21cb138f21d2316fb83c650497be8298</td>\n",
       "      <td>(CNN) -- The millennial generation is big, div...</td>\n",
       "      <td>A new book details changing U.S. demographics ...</td>\n",
       "    </tr>\n",
       "    <tr>\n",
       "      <th>226740</th>\n",
       "      <td>b19793ac6dc789534ac9b3d0291ac39a2dc5efeb</td>\n",
       "      <td>By . Will Stewart . Shocking pictures show the...</td>\n",
       "      <td>Bathers ran out of the Ob River clutching thei...</td>\n",
       "    </tr>\n",
       "  </tbody>\n",
       "</table>\n",
       "</div>"
      ],
      "text/plain": [
       "                                              id  \\\n",
       "192931  85c68823b7734962a6cf37b67b352f2790d27ff4   \n",
       "258743  dae5171c87c9f8424f09471a2dd6eff9b32733fe   \n",
       "89967   ff7846022814b4503bfc98a23f43e94e89ab0561   \n",
       "251510  d18ec0876e37e94c0772f55debaa1614b238c5a9   \n",
       "28902   5204aeb065cef0b08a62837941e64a668da11b66   \n",
       "70628   c83faf99c08fd4d44d9ee38d1c3ef84c273909f2   \n",
       "283034  fa9f62da24f8245ba3bfd1e1756a25bedee8c6a2   \n",
       "106725  15ada6585ac8c3a34f1e2e7921cacefa0bf6ae38   \n",
       "148621  4c2d73ce21cb138f21d2316fb83c650497be8298   \n",
       "226740  b19793ac6dc789534ac9b3d0291ac39a2dc5efeb   \n",
       "\n",
       "                                                  article  \\\n",
       "192931  (CNN) -- Wearing a floppy hat, 3-year-old Thor...   \n",
       "258743  By . Daily Mail Reporter . PUBLISHED: . 19:21 ...   \n",
       "89967   Atlanta (CNN) -- Basketball star Lisa Leslie b...   \n",
       "251510  John Balyo, 35, (pictured at his arrest last w...   \n",
       "28902   (CNN) -- The Republican Party is in the midst ...   \n",
       "70628   By . Daily Mail Reporter . UPDATED: . 06:33 ES...   \n",
       "283034  The explosive Senate Committee torture report ...   \n",
       "106725  The world's largest ship, which is the size of...   \n",
       "148621  (CNN) -- The millennial generation is big, div...   \n",
       "226740  By . Will Stewart . Shocking pictures show the...   \n",
       "\n",
       "                                               highlights  \n",
       "192931  Up-close tours mark 50th anniversary of Kenned...  \n",
       "258743  Etan Patz was last seen in 1979 when he walked...  \n",
       "89967   The 27th annual National Girls and Women in Sp...  \n",
       "251510  John Balyo, 35, was arrested last Friday while...  \n",
       "28902   Edward Alden: GOP in the midst of historic deb...  \n",
       "70628   Microsoft in second place with 905 million vis...  \n",
       "283034  Experts say yesterday's Senate torture report ...  \n",
       "106725  World's largest ship, the Hong-Kong registered...  \n",
       "148621  A new book details changing U.S. demographics ...  \n",
       "226740  Bathers ran out of the Ob River clutching thei...  "
      ]
     },
     "execution_count": 4,
     "metadata": {},
     "output_type": "execute_result"
    }
   ],
   "source": [
    "data.head(10)"
   ]
  },
  {
   "cell_type": "code",
   "execution_count": 5,
   "id": "fb0a8ca8-bc13-4eda-8476-ccd275b8cc6a",
   "metadata": {},
   "outputs": [],
   "source": [
    "# Tokenize the text\n",
    "text_tokenizer = Tokenizer(num_words=50000)  # Limiting the vocabulary size\n",
    "text_tokenizer.fit_on_texts(text)\n",
    "text_sequences = text_tokenizer.texts_to_sequences(text)\n",
    "text_vocab_size = min(len(text_tokenizer.word_index) + 1, 50000)\n",
    "max_text_len = 300  # Limiting the text sequence length"
   ]
  },
  {
   "cell_type": "code",
   "execution_count": 6,
   "id": "7bda6df2-65a8-4761-a2d9-2de4437bab08",
   "metadata": {},
   "outputs": [],
   "source": [
    "summary_tokenizer = Tokenizer(num_words=10000)  # Limiting the vocabulary size\n",
    "summary_tokenizer.fit_on_texts(summary)\n",
    "summary_sequences = summary_tokenizer.texts_to_sequences(summary)\n",
    "summary_vocab_size = min(len(summary_tokenizer.word_index) + 1, 10000)\n",
    "max_summary_len = 50  # Limiting the summary sequence length"
   ]
  },
  {
   "cell_type": "code",
   "execution_count": 7,
   "id": "bb6f6a67-270f-4a22-b641-4037e0ed92b7",
   "metadata": {},
   "outputs": [],
   "source": [
    "# Ensure padding consistency\n",
    "text_sequences = pad_sequences(text_sequences, maxlen=max_text_len, padding='post')\n",
    "summary_sequences = pad_sequences(summary_sequences, maxlen=max_summary_len, padding='post')"
   ]
  },
  {
   "cell_type": "code",
   "execution_count": 8,
   "id": "b8bf20d9-c45c-40aa-8947-3e38dd3ab0b4",
   "metadata": {},
   "outputs": [
    {
     "name": "stderr",
     "output_type": "stream",
     "text": [
      "C:\\Users\\urmid\\anaconda3\\Lib\\site-packages\\keras\\src\\layers\\core\\embedding.py:90: UserWarning: Argument `input_length` is deprecated. Just remove it.\n",
      "  warnings.warn(\n"
     ]
    }
   ],
   "source": [
    "# Define the model\n",
    "embedding_dim = 50\n",
    "latent_dim = 128\n",
    "\n",
    "# Encoder\n",
    "encoder_inputs = Input(shape=(max_text_len,))\n",
    "encoder_embedding = Embedding(input_dim=text_vocab_size, output_dim=embedding_dim, input_length=max_text_len)(encoder_inputs)\n",
    "encoder_lstm = Bidirectional(LSTM(latent_dim, return_sequences=False))(encoder_embedding)\n",
    "encoder_outputs = Dense(latent_dim, activation='relu')(encoder_lstm)\n",
    "\n",
    "# Decoder\n",
    "decoder_inputs = Input(shape=(max_summary_len,))\n",
    "decoder_embedding = Embedding(input_dim=summary_vocab_size, output_dim=embedding_dim, input_length=max_summary_len)(decoder_inputs)\n",
    "decoder_lstm = LSTM(latent_dim, return_sequences=True, return_state=False)(decoder_embedding, initial_state=[encoder_outputs, encoder_outputs])\n",
    "decoder_outputs = Dense(summary_vocab_size, activation='softmax')(decoder_lstm)\n",
    "\n",
    "model = Model([encoder_inputs, decoder_inputs], decoder_outputs)"
   ]
  },
  {
   "cell_type": "code",
   "execution_count": 9,
   "id": "127dacfa-3ad1-4e8f-bb7a-fa91ea66a392",
   "metadata": {},
   "outputs": [],
   "source": [
    "model.compile(optimizer='adam', loss='sparse_categorical_crossentropy', metrics=['accuracy'])"
   ]
  },
  {
   "cell_type": "code",
   "execution_count": 10,
   "id": "320663df-d0c6-4e5e-8c6b-0d458a52fa6a",
   "metadata": {},
   "outputs": [],
   "source": [
    "# Prepare target data for training\n",
    "summary_sequences = np.expand_dims(summary_sequences, -1)"
   ]
  },
  {
   "cell_type": "code",
   "execution_count": 16,
   "id": "a91cfdc7-ddf6-4edd-a900-c7f94ab90921",
   "metadata": {},
   "outputs": [
    {
     "name": "stdout",
     "output_type": "stream",
     "text": [
      "Epoch 1/10\n"
     ]
    },
    {
     "ename": "ValueError",
     "evalue": "Unknown variable: <KerasVariable shape=(50000, 50), dtype=float32, path=embedding/embeddings>. This optimizer can only be called for the variables it was originally built with. When working with a new set of variables, you should recreate a new optimizer instance.",
     "output_type": "error",
     "traceback": [
      "\u001b[1;31m---------------------------------------------------------------------------\u001b[0m",
      "\u001b[1;31mValueError\u001b[0m                                Traceback (most recent call last)",
      "Cell \u001b[1;32mIn[16], line 2\u001b[0m\n\u001b[0;32m      1\u001b[0m \u001b[38;5;66;03m# Train the model\u001b[39;00m\n\u001b[1;32m----> 2\u001b[0m model\u001b[38;5;241m.\u001b[39mfit([text_sequences, summary_sequences], summary_sequences, epochs\u001b[38;5;241m=\u001b[39m\u001b[38;5;241m10\u001b[39m, batch_size\u001b[38;5;241m=\u001b[39m\u001b[38;5;241m64\u001b[39m, validation_split\u001b[38;5;241m=\u001b[39m\u001b[38;5;241m0.25\u001b[39m, callbacks\u001b[38;5;241m=\u001b[39m[EarlyStopping(monitor\u001b[38;5;241m=\u001b[39m\u001b[38;5;124m'\u001b[39m\u001b[38;5;124mval_loss\u001b[39m\u001b[38;5;124m'\u001b[39m, patience\u001b[38;5;241m=\u001b[39m\u001b[38;5;241m2\u001b[39m)])\n",
      "File \u001b[1;32m~\\anaconda3\\Lib\\site-packages\\keras\\src\\utils\\traceback_utils.py:122\u001b[0m, in \u001b[0;36mfilter_traceback.<locals>.error_handler\u001b[1;34m(*args, **kwargs)\u001b[0m\n\u001b[0;32m    119\u001b[0m     filtered_tb \u001b[38;5;241m=\u001b[39m _process_traceback_frames(e\u001b[38;5;241m.\u001b[39m__traceback__)\n\u001b[0;32m    120\u001b[0m     \u001b[38;5;66;03m# To get the full stack trace, call:\u001b[39;00m\n\u001b[0;32m    121\u001b[0m     \u001b[38;5;66;03m# `keras.config.disable_traceback_filtering()`\u001b[39;00m\n\u001b[1;32m--> 122\u001b[0m     \u001b[38;5;28;01mraise\u001b[39;00m e\u001b[38;5;241m.\u001b[39mwith_traceback(filtered_tb) \u001b[38;5;28;01mfrom\u001b[39;00m \u001b[38;5;28;01mNone\u001b[39;00m\n\u001b[0;32m    123\u001b[0m \u001b[38;5;28;01mfinally\u001b[39;00m:\n\u001b[0;32m    124\u001b[0m     \u001b[38;5;28;01mdel\u001b[39;00m filtered_tb\n",
      "File \u001b[1;32m~\\anaconda3\\Lib\\site-packages\\keras\\src\\optimizers\\base_optimizer.py:228\u001b[0m, in \u001b[0;36mBaseOptimizer._check_variables_are_known\u001b[1;34m(self, variables)\u001b[0m\n\u001b[0;32m    226\u001b[0m \u001b[38;5;28;01mfor\u001b[39;00m v \u001b[38;5;129;01min\u001b[39;00m variables:\n\u001b[0;32m    227\u001b[0m     \u001b[38;5;28;01mif\u001b[39;00m \u001b[38;5;28mself\u001b[39m\u001b[38;5;241m.\u001b[39m_var_key(v) \u001b[38;5;129;01mnot\u001b[39;00m \u001b[38;5;129;01min\u001b[39;00m \u001b[38;5;28mself\u001b[39m\u001b[38;5;241m.\u001b[39m_trainable_variables_indices:\n\u001b[1;32m--> 228\u001b[0m         \u001b[38;5;28;01mraise\u001b[39;00m \u001b[38;5;167;01mValueError\u001b[39;00m(\n\u001b[0;32m    229\u001b[0m             \u001b[38;5;124mf\u001b[39m\u001b[38;5;124m\"\u001b[39m\u001b[38;5;124mUnknown variable: \u001b[39m\u001b[38;5;132;01m{\u001b[39;00mv\u001b[38;5;132;01m}\u001b[39;00m\u001b[38;5;124m. This optimizer can only \u001b[39m\u001b[38;5;124m\"\u001b[39m\n\u001b[0;32m    230\u001b[0m             \u001b[38;5;124m\"\u001b[39m\u001b[38;5;124mbe called for the variables it was originally built with. \u001b[39m\u001b[38;5;124m\"\u001b[39m\n\u001b[0;32m    231\u001b[0m             \u001b[38;5;124m\"\u001b[39m\u001b[38;5;124mWhen working with a new set of variables, you should \u001b[39m\u001b[38;5;124m\"\u001b[39m\n\u001b[0;32m    232\u001b[0m             \u001b[38;5;124m\"\u001b[39m\u001b[38;5;124mrecreate a new optimizer instance.\u001b[39m\u001b[38;5;124m\"\u001b[39m\n\u001b[0;32m    233\u001b[0m         )\n",
      "\u001b[1;31mValueError\u001b[0m: Unknown variable: <KerasVariable shape=(50000, 50), dtype=float32, path=embedding/embeddings>. This optimizer can only be called for the variables it was originally built with. When working with a new set of variables, you should recreate a new optimizer instance."
     ]
    }
   ],
   "source": [
    "# Train the model\n",
    "model.fit([text_sequences, summary_sequences], summary_sequences, epochs=10, batch_size=64, validation_split=0.25, callbacks=[EarlyStopping(monitor='val_loss', patience=2)])\n"
   ]
  },
  {
   "cell_type": "code",
   "execution_count": null,
   "id": "626418fc-eced-410f-961f-5eaa303b472a",
   "metadata": {
    "tags": []
   },
   "outputs": [],
   "source": [
    "# Save the model\n",
    "model.save('text_summarization_rnn_light_2.h5')\n"
   ]
  },
  {
   "cell_type": "code",
   "execution_count": null,
   "id": "2fea301e-9a4c-4616-9d10-3ca5c9b40147",
   "metadata": {},
   "outputs": [],
   "source": []
  }
 ],
 "metadata": {
  "kernelspec": {
   "display_name": "Python 3 (ipykernel)",
   "language": "python",
   "name": "python3"
  },
  "language_info": {
   "codemirror_mode": {
    "name": "ipython",
    "version": 3
   },
   "file_extension": ".py",
   "mimetype": "text/x-python",
   "name": "python",
   "nbconvert_exporter": "python",
   "pygments_lexer": "ipython3",
   "version": "3.11.5"
  }
 },
 "nbformat": 4,
 "nbformat_minor": 5
}
